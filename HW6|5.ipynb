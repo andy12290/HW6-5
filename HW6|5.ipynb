{
 "cells": [
  {
   "cell_type": "markdown",
   "metadata": {},
   "source": [
    "* pp 278-280 Programming Projects 1-6\n",
    "* Programming Project"
   ]
  },
  {
   "cell_type": "markdown",
   "metadata": {},
   "source": [
    "# 1"
   ]
  },
  {
   "cell_type": "code",
   "execution_count": 5,
   "metadata": {
    "collapsed": false
   },
   "outputs": [
    {
     "name": "stdout",
     "output_type": "stream",
     "text": [
      "Take a guess: 12\n",
      "Higher...\n",
      "Take a guess: 12\n",
      "Higher...\n",
      "Take a guess: 34\n",
      "Higher...\n",
      "Take a guess: 23\n",
      "Higher...\n",
      "Take a guess: 12\n",
      "Higher...\n",
      "\n",
      "Sorry you reached the maximum number of tries\n",
      "The secret number was 73\n"
     ]
    }
   ],
   "source": [
    "import random\n",
    "\n",
    "attempts = 5\n",
    "secret_number = random.randint(1, 100)\n",
    "\n",
    "for attempt in range(attempts):\n",
    "    guess = int(input('Take a guess: '))\n",
    "\n",
    "    if guess < secret_number:\n",
    "        print('Higher...')\n",
    "    elif guess > secret_number:\n",
    "        print('Lower...')\n",
    "    else:\n",
    "        print()\n",
    "        print('You guessed it! The number was ', secret_number)\n",
    "        print('You guessed it in', attempts, 'attempts')\n",
    "\n",
    "        break\n",
    "\n",
    "if guess != secret_number:\n",
    "    print()\n",
    "    print('Sorry you reached the maximum number of tries')\n",
    "    print('The secret number was', secret_number)"
   ]
  },
  {
   "cell_type": "code",
   "execution_count": null,
   "metadata": {
    "collapsed": true
   },
   "outputs": [],
   "source": [
    "# 2"
   ]
  },
  {
   "cell_type": "code",
   "execution_count": 13,
   "metadata": {
    "collapsed": true
   },
   "outputs": [],
   "source": [
    "# 3"
   ]
  },
  {
   "cell_type": "markdown",
   "metadata": {},
   "source": [
    "# 4"
   ]
  },
  {
   "cell_type": "markdown",
   "metadata": {},
   "source": [
    "* Copy below code in your IDE, it will print the flag"
   ]
  },
  {
   "cell_type": "code",
   "execution_count": 12,
   "metadata": {
    "collapsed": true
   },
   "outputs": [],
   "source": [
    "# American flag\n",
    "import turtle\n",
    "import time\n",
    "import random\n",
    "turtle.reset()\n",
    "\n",
    "def draw_rectangle(length, height):\n",
    "    turtle.up()\n",
    "    x = -150\n",
    "    y = 150\n",
    "    C = height*(7/13)\n",
    "    D = length*(2/5)\n",
    "    L = stripe_width = float(round(height/13,1))\n",
    "\n",
    "    ## Draw rectangle first.\n",
    "    turtle.color(0,0,0)\n",
    "    turtle.begin_fill()\n",
    "    turtle.setpos(x,y)\n",
    "    turtle.down()\n",
    "    turtle.forward(length)\n",
    "    turtle.right(90)\n",
    "    turtle.forward(height)\n",
    "    turtle.right(90)\n",
    "    turtle.forward(length)\n",
    "    turtle.right(90)\n",
    "    turtle.forward(height)\n",
    "    turtle.end_fill()\n",
    "\n",
    "    ## Then draw the stripes.\n",
    "    x1 = -150\n",
    "    y1 = 150-L\n",
    "    for z in range(13):\n",
    "        if z%2 == 0:\n",
    "            r = s = t = 0\n",
    "        else:\n",
    "            r = s = t = 1\n",
    "        turtle.up()\n",
    "        turtle.speed(100)\n",
    "        turtle.setpos(x1,y1)\n",
    "        turtle.setheading(90)\n",
    "        turtle.down()\n",
    "        turtle.color(r,s,t)\n",
    "        turtle.begin_fill()\n",
    "        turtle.forward(L)\n",
    "        turtle.right(90)\n",
    "        turtle.forward(length)\n",
    "        turtle.right(90)\n",
    "        turtle.forward(L)\n",
    "        turtle.right(90)\n",
    "        turtle.forward(length)\n",
    "        turtle.end_fill()\n",
    "        y1 -= L\n",
    "\n",
    "    ## Finally draw the stars rectangle overlapping the stripes, next is stars.\n",
    "    x2 = -150+D\n",
    "    y2 = 150.5-C\n",
    "    turtle.up()\n",
    "    turtle.setpos(x2,y2)\n",
    "    turtle.down()\n",
    "    turtle.color(0,0,0)\n",
    "    turtle.begin_fill()\n",
    "    turtle.forward(D)\n",
    "    turtle.right(90)\n",
    "    turtle.forward(C)\n",
    "    turtle.right(90)\n",
    "    turtle.forward(D)\n",
    "    turtle.right(90)\n",
    "    turtle.forward(C)\n",
    "    turtle.end_fill()\n",
    "    turtle.up()\n",
    "\n",
    "    turtle.bye\n",
    "    draw_star(-length, height)\n",
    "\n",
    "def draw_star(l, h):\n",
    "    for z in range(50):\n",
    "        if z < 7:\n",
    "            row = 140\n",
    "            draw_starrows(row)\n",
    "        if z < 14:\n",
    "            row = row - 20\n",
    "            draw_starrows(row)\n",
    "        if z < 21:\n",
    "            row = row - 20\n",
    "            draw_starrows(row)\n",
    "        if z < 28:\n",
    "            row = row - 20\n",
    "            draw_starrows(row)\n",
    "        if z < 35:\n",
    "            row = row - 20\n",
    "            draw_starrows(row)\n",
    "            ## This gets the turtle pen out of the way at the very end.\n",
    "            turtle.up()\n",
    "            turtle.setpos(-180,100)\n",
    "        break\n",
    "\n",
    "def draw_starrows(row):\n",
    "    x = -160\n",
    "    y = 150\n",
    "    for z in range(10):\n",
    "        x += 15\n",
    "        turtle.up()\n",
    "        turtle.color(1,1,1)\n",
    "        turtle.speed(100)\n",
    "        turtle.setpos(x,row)\n",
    "        turtle.begin_fill()\n",
    "        turtle.down()\n",
    "        turtle.forward(6.154)\n",
    "        turtle.left(144)\n",
    "        turtle.forward(6.154)\n",
    "        turtle.left(144)\n",
    "        turtle.forward(6.154)\n",
    "        turtle.left(144)\n",
    "        turtle.forward(6.154)\n",
    "        turtle.left(144)\n",
    "        turtle.forward(6.154)\n",
    "        turtle.left(144)\n",
    "        turtle.end_fill()\n",
    "    turtle.bye\n",
    "\n",
    "##def get_color():\n",
    "##    r = g = b = 0\n",
    "##    color = r = g = b\n",
    "##    return color\n",
    "\n",
    "def draw_flag():\n",
    "    A = 200\n",
    "    height = int(A)\n",
    "    draw_rectangle(height*1.9, height)\n",
    "\n",
    "draw_flag()"
   ]
  },
  {
   "cell_type": "markdown",
   "metadata": {},
   "source": [
    "# 5"
   ]
  },
  {
   "cell_type": "code",
   "execution_count": 30,
   "metadata": {
    "collapsed": false
   },
   "outputs": [],
   "source": [
    "def main():\n",
    "    string = str(input(\"Enter a string: \"))\n",
    "    z = permutations(string)\n",
    "    print(z)\n",
    "def permutations(string):\n",
    "    if len(string) == 1:\n",
    "        return string\n",
    "\n",
    "    recursive_perms = []\n",
    "    for c in string:\n",
    "        for perm in permutations(string.replace(c,'',1)):\n",
    "            recursive_perms.append(c+perm)\n",
    "\n",
    "    return set(recursive_perms)"
   ]
  },
  {
   "cell_type": "code",
   "execution_count": 34,
   "metadata": {
    "collapsed": false
   },
   "outputs": [
    {
     "name": "stdout",
     "output_type": "stream",
     "text": [
      "Enter a string: ear\n",
      "{'rea', 'are', 'aer', 'rae', 'era', 'ear'}\n"
     ]
    }
   ],
   "source": [
    "main()"
   ]
  },
  {
   "cell_type": "markdown",
   "metadata": {},
   "source": [
    "# 6"
   ]
  },
  {
   "cell_type": "code",
   "execution_count": 15,
   "metadata": {
    "collapsed": false
   },
   "outputs": [
    {
     "name": "stdout",
     "output_type": "stream",
     "text": [
      "[1]\n",
      "[1, 1]\n",
      "[1, 2, 1]\n",
      "[1, 3, 3, 1]\n",
      "[1, 4, 6, 4, 1]\n",
      "[1, 5, 10, 10, 5, 1]\n"
     ]
    }
   ],
   "source": [
    "def pascal(n):\n",
    "    if n == 1:\n",
    "        return [1]\n",
    "    else:\n",
    "        p_line = pascal(n-1)\n",
    "        line = [ p_line[i]+p_line[i+1] for i in range(len(p_line)-1)]\n",
    "        line.insert(0,1)\n",
    "        line.append(1)\n",
    "    return line\n",
    "\n",
    "print(pascal(1))\n",
    "print(pascal(2))\n",
    "print(pascal(3))\n",
    "print(pascal(4))\n",
    "print(pascal(5))\n",
    "print(pascal(6))"
   ]
  },
  {
   "cell_type": "code",
   "execution_count": null,
   "metadata": {
    "collapsed": true
   },
   "outputs": [],
   "source": []
  }
 ],
 "metadata": {
  "anaconda-cloud": {},
  "kernelspec": {
   "display_name": "Python [Root]",
   "language": "python",
   "name": "Python [Root]"
  },
  "language_info": {
   "codemirror_mode": {
    "name": "ipython",
    "version": 3
   },
   "file_extension": ".py",
   "mimetype": "text/x-python",
   "name": "python",
   "nbconvert_exporter": "python",
   "pygments_lexer": "ipython3",
   "version": "3.5.3"
  }
 },
 "nbformat": 4,
 "nbformat_minor": 0
}
